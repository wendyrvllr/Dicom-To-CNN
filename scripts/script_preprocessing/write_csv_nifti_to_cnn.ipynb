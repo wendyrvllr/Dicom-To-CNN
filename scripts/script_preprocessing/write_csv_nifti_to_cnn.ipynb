{
 "cells": [
  {
   "cell_type": "code",
   "execution_count": null,
   "metadata": {},
   "outputs": [],
   "source": [
    "import json\n",
    "import os\n",
    "from dicom_to_cnn.tools.cleaning_dicom.folders import *\n",
    "import numpy as np\n",
    "import SimpleITK as sitk\n",
    "import csv\n",
    "import shutil"
   ]
  },
  {
   "source": [
    "### Script to write csv_file with every nifti for DeepOncology repertory"
   ],
   "cell_type": "markdown",
   "metadata": {}
  },
  {
   "source": [
    "#### - Read JSON dataset "
   ],
   "cell_type": "markdown",
   "metadata": {}
  },
  {
   "cell_type": "code",
   "execution_count": null,
   "metadata": {},
   "outputs": [],
   "source": [
    "#json_path = 'abs//path//json_dataset saved in by nifti_builder_from_json.ipynb'\n",
    "json_path = '/media/oncopole/d508267f-cc7d-45e2-ae24-9456e005a01f/GAINED/dataset.json'\n",
    "dataset = []\n",
    "with open(json_path) as json_file : \n",
    "    reader = json.load(json_file)\n",
    "    for info in reader :\n",
    "        dataset.append(info)\n",
    "print(len(dataset))"
   ]
  },
  {
   "source": [
    "#### - Get the list of every nifti in the directory "
   ],
   "cell_type": "markdown",
   "metadata": {}
  },
  {
   "cell_type": "code",
   "execution_count": null,
   "metadata": {},
   "outputs": [],
   "source": [
    "#nifti_directory = 'abs//path//nifti//directory'\n",
    "nifti_directory = '/media/oncopole/d508267f-cc7d-45e2-ae24-9456e005a01f/GAINED/NIFTI'\n",
    "liste = os.listdir(nifti_directory)\n",
    "liste_nifti = []\n",
    "for nifti in liste : \n",
    "    if 'nii' in nifti : \n",
    "        liste_nifti.append(os.path.join(nifti_directory, nifti))"
   ]
  },
  {
   "source": [
    "#### - Add nifti PT CT MASK for every data/study in dataset "
   ],
   "cell_type": "markdown",
   "metadata": {}
  },
  {
   "cell_type": "code",
   "execution_count": null,
   "metadata": {
    "tags": []
   },
   "outputs": [],
   "source": [
    "for patient in dataset: \n",
    "    uid = patient[4]\n",
    "    subliste = []\n",
    "    for nifti in liste_nifti : \n",
    "        if uid in nifti : \n",
    "            subliste.append(nifti)\n",
    "    subliste.sort()\n",
    "    if len(subliste) == 3 :   #3 if PET, CT and MASK/ 2 if only PET and CT \n",
    "        for i in range(len(subliste)):\n",
    "            patient.append(subliste[i])\n",
    "#patient = [path_1, modal_1, path_2, modal_2, study_uid, type_, patient_id, csv_file, nifti_CT, nifti_PET, nifti_MASK]\n",
    "    "
   ]
  },
  {
   "cell_type": "code",
   "execution_count": null,
   "metadata": {
    "tags": []
   },
   "outputs": [],
   "source": [
    "error = []\n",
    "for serie in dataset : \n",
    "    if len(serie) != 11 : #11 if CSV and CT/PET/MASK ; 10 IF CT/PET/MASK ; 9 if ONLY CT/PET\n",
    "        print(serie)\n",
    "        error.append(serie)\n",
    "for err in error : \n",
    "    dataset.remove(err)\n",
    "print('dataset cleaned')"
   ]
  },
  {
   "cell_type": "code",
   "execution_count": null,
   "metadata": {},
   "outputs": [],
   "source": [
    "print(\" Number of study with complete nifti: \", len(dataset))"
   ]
  },
  {
   "source": [
    "#### - Create folder with patient_id and put nifti into it "
   ],
   "cell_type": "markdown",
   "metadata": {}
  },
  {
   "cell_type": "code",
   "execution_count": null,
   "metadata": {
    "tags": [
     "outputPrepend"
    ]
   },
   "outputs": [],
   "source": [
    "directory =  '/media/oncopole/d508267f-cc7d-45e2-ae24-9456e005a01f/NIFTI/GAINED_NIFTI'\n",
    "for serie in dataset: \n",
    "    #serie = [path_1, modal_1, path_2, modal_2, study_uid, type_, patient_id, csv_file,  nifti_CT, nifti_PET, nifti_MASK]\n",
    "    patient_id = serie[6]\n",
    "    pet_type = serie[5]\n",
    "    study_uid = serie[4]\n",
    "    nifti_ct = serie[-3]\n",
    "    nifti_pet = serie[-2]\n",
    "    nifti_mask = serie[-1]\n",
    "\n",
    "    folder = directory+'/'+patient_id\n",
    "    if not os.path.exists(folder):\n",
    "        os.makedirs(folder)\n",
    "        print(folder, 'created')\n",
    "    else : print(folder, \"Patient folder already created\")\n",
    "\n",
    "    subfolder = folder+'/'+pet_type\n",
    "    if not os.path.exists(subfolder) :\n",
    "        os.makedirs(subfolder)\n",
    "        print(subfolder, 'created')\n",
    "    else : print(subfolder, \"type subfolder alreader created ! \", pet_type)\n",
    "\n",
    "    new_ct_path = subfolder+'/'+nifti_ct.split('/')[-1]\n",
    "    new_pet_path = subfolder+'/'+nifti_pet.split('/')[-1]\n",
    "    new_mask_path = subfolder+'/'+nifti_mask.split('/')[-1]\n",
    "    \n",
    "    try : \n",
    "        os.rename(nifti_ct, new_ct_path)\n",
    "        os.rename(nifti_pet, new_pet_path)\n",
    "        os.rename(nifti_mask, new_mask_path)\n",
    "        serie[-3] = new_ct_path\n",
    "        serie[-2] = new_pet_path \n",
    "        serie[-1] = new_mask_path\n",
    "\n",
    "    except Exception as err : \n",
    "        print(err)\n",
    "    "
   ]
  },
  {
   "source": [
    "#### - Write csv_file "
   ],
   "cell_type": "markdown",
   "metadata": {}
  },
  {
   "cell_type": "code",
   "execution_count": null,
   "metadata": {
    "tags": []
   },
   "outputs": [],
   "source": [
    "directory = '/media/oncopole/d508267f-cc7d-45e2-ae24-9456e005a01f/NIFTI/GAINED_NIFTI'\n",
    "filename = 'GAINED_NIFTI_PET2_4.csv'\n",
    "\n",
    "with open(os.path.join(directory, filename), 'w') as csv_file : \n",
    "    csv_writer = csv.writer(csv_file, delimiter=',', quotechar='\"', quoting=csv.QUOTE_MINIMAL)\n",
    "    csv_writer.writerow([\"PATIENT_ID\", \"STUDY UID\", \"PET\", \"NIFTI_CT\", \"NIFTI_PET\", \"NIFTI_MASK\", \"STUDY\"])\n",
    "    for serie in dataset: \n",
    "        #serie = [path_1, modal_1, path_2, modal_2, study_uid, type_, patient_id, nifti_CT, nifti_PET, nifti_MASK]\n",
    "        csv_writer.writerow([serie[6], serie[4], serie[5], serie[-3], serie[-2], serie[-1], 'study_name'])"
   ]
  }
 ],
 "metadata": {
  "file_extension": ".py",
  "kernelspec": {
   "name": "python3",
   "display_name": "Python 3.8.5 64-bit ('base': conda)",
   "metadata": {
    "interpreter": {
     "hash": "6a0b6c04207aa6f5c33e08335e377a5793c5a1abe8e179f13df17cfd923ec7d1"
    }
   }
  },
  "language_info": {
   "codemirror_mode": {
    "name": "ipython",
    "version": 3
   },
   "file_extension": ".py",
   "mimetype": "text/x-python",
   "name": "python",
   "nbconvert_exporter": "python",
   "pygments_lexer": "ipython3",
   "version": "3.8.5"
  },
  "mimetype": "text/x-python",
  "name": "python",
  "npconvert_exporter": "python",
  "pygments_lexer": "ipython3",
  "version": 3,
  "metadata": {
   "interpreter": {
    "hash": "31f2aee4e71d21fbe5cf8b01ff0e069b9275f58929596ceb00d14d90e3e16cd6"
   }
  }
 },
 "nbformat": 4,
 "nbformat_minor": 2
}